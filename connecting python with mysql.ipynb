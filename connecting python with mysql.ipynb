{
 "cells": [
  {
   "cell_type": "code",
   "execution_count": null,
   "id": "7a46cecd",
   "metadata": {},
   "outputs": [],
   "source": [
    "!pip install mysql-connector"
   ]
  },
  {
   "cell_type": "code",
   "execution_count": null,
   "id": "89c6d918",
   "metadata": {},
   "outputs": [],
   "source": [
    "#!pip install mysql-connector\n",
    "#!pip install mysql-connector-python-rf\n",
    "#!pip install mysql-connector-python\n"
   ]
  },
  {
   "cell_type": "code",
   "execution_count": 9,
   "id": "e8e866d9",
   "metadata": {},
   "outputs": [],
   "source": [
    "import mysql.connector as mc"
   ]
  },
  {
   "cell_type": "code",
   "execution_count": 10,
   "id": "39e1c3c3",
   "metadata": {},
   "outputs": [],
   "source": [
    "mydb = mc.connect(host='localhost',user='root',passwd='Qwerty123')"
   ]
  },
  {
   "cell_type": "code",
   "execution_count": 11,
   "id": "ae2b57b1",
   "metadata": {},
   "outputs": [],
   "source": [
    "mycursor = mydb.cursor()"
   ]
  },
  {
   "cell_type": "code",
   "execution_count": 14,
   "id": "f985726a",
   "metadata": {},
   "outputs": [],
   "source": [
    "mycursor.execute('create database dhanunjaya')"
   ]
  },
  {
   "cell_type": "code",
   "execution_count": 15,
   "id": "9b858deb",
   "metadata": {},
   "outputs": [],
   "source": [
    "mycursor.execute('show databases')"
   ]
  },
  {
   "cell_type": "code",
   "execution_count": 16,
   "id": "10e41a51",
   "metadata": {},
   "outputs": [
    {
     "name": "stdout",
     "output_type": "stream",
     "text": [
      "('check',)\n",
      "('dhanunjaya',)\n",
      "('employees',)\n",
      "('information_schema',)\n",
      "('mysql',)\n",
      "('northwind',)\n",
      "('performance_schema',)\n",
      "('sakila',)\n"
     ]
    }
   ],
   "source": [
    "for i in mycursor:\n",
    "    print(i)"
   ]
  },
  {
   "cell_type": "code",
   "execution_count": 21,
   "id": "be09dcf4",
   "metadata": {},
   "outputs": [],
   "source": [
    "mycursor.execute('use dhanunjaya')"
   ]
  },
  {
   "cell_type": "code",
   "execution_count": 22,
   "id": "51e2a802",
   "metadata": {},
   "outputs": [],
   "source": [
    "query = 'create table mysql (sno int primary key auto_increment,name varchar(255),age int(10))'"
   ]
  },
  {
   "cell_type": "code",
   "execution_count": 23,
   "id": "b2bc067a",
   "metadata": {},
   "outputs": [],
   "source": [
    "mycursor.execute(query)"
   ]
  },
  {
   "cell_type": "code",
   "execution_count": 31,
   "id": "e8293b96",
   "metadata": {},
   "outputs": [],
   "source": [
    "insert = 'insert into mysql values(null,\"dj\",10)'"
   ]
  },
  {
   "cell_type": "code",
   "execution_count": 32,
   "id": "28cc3f70",
   "metadata": {},
   "outputs": [],
   "source": [
    "mycursor.execute(insert)"
   ]
  },
  {
   "cell_type": "code",
   "execution_count": 33,
   "id": "d5378797",
   "metadata": {},
   "outputs": [],
   "source": [
    "mydb.commit()"
   ]
  },
  {
   "cell_type": "code",
   "execution_count": 40,
   "id": "74545c65",
   "metadata": {},
   "outputs": [],
   "source": [
    "mycursor.execute('select * from mysql')"
   ]
  },
  {
   "cell_type": "code",
   "execution_count": 36,
   "id": "8b713959",
   "metadata": {},
   "outputs": [
    {
     "name": "stdout",
     "output_type": "stream",
     "text": [
      "(1, 'dj', 10)\n"
     ]
    }
   ],
   "source": [
    "for i in mycursor:\n",
    "    print(i)"
   ]
  },
  {
   "cell_type": "code",
   "execution_count": 39,
   "id": "8f6f82e8",
   "metadata": {},
   "outputs": [
    {
     "data": {
      "text/plain": [
       "[(1, 'dj', 10)]"
      ]
     },
     "execution_count": 39,
     "metadata": {},
     "output_type": "execute_result"
    }
   ],
   "source": [
    "mycursor.fetchall()"
   ]
  },
  {
   "cell_type": "code",
   "execution_count": 41,
   "id": "dd829522",
   "metadata": {},
   "outputs": [
    {
     "data": {
      "text/plain": [
       "(1, 'dj', 10)"
      ]
     },
     "execution_count": 41,
     "metadata": {},
     "output_type": "execute_result"
    }
   ],
   "source": [
    "mycursor.fetchone()"
   ]
  },
  {
   "cell_type": "code",
   "execution_count": null,
   "id": "f090bd40",
   "metadata": {},
   "outputs": [],
   "source": []
  },
  {
   "cell_type": "code",
   "execution_count": null,
   "id": "ba0f7415",
   "metadata": {},
   "outputs": [],
   "source": []
  },
  {
   "cell_type": "code",
   "execution_count": null,
   "id": "feffc657",
   "metadata": {},
   "outputs": [],
   "source": []
  },
  {
   "cell_type": "code",
   "execution_count": null,
   "id": "14766b4d",
   "metadata": {},
   "outputs": [],
   "source": []
  },
  {
   "cell_type": "code",
   "execution_count": null,
   "id": "d41e1405",
   "metadata": {},
   "outputs": [],
   "source": []
  },
  {
   "cell_type": "code",
   "execution_count": null,
   "id": "67a09d28",
   "metadata": {},
   "outputs": [],
   "source": []
  }
 ],
 "metadata": {
  "kernelspec": {
   "display_name": "Python 3 (ipykernel)",
   "language": "python",
   "name": "python3"
  },
  "language_info": {
   "codemirror_mode": {
    "name": "ipython",
    "version": 3
   },
   "file_extension": ".py",
   "mimetype": "text/x-python",
   "name": "python",
   "nbconvert_exporter": "python",
   "pygments_lexer": "ipython3",
   "version": "3.10.9"
  }
 },
 "nbformat": 4,
 "nbformat_minor": 5
}
